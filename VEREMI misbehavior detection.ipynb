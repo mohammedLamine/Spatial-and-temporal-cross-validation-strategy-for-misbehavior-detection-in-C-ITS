{
 "cells": [
  {
   "cell_type": "markdown",
   "metadata": {},
   "source": [
    "## Librairies"
   ]
  },
  {
   "cell_type": "code",
   "execution_count": null,
   "metadata": {},
   "outputs": [],
   "source": [
    "%matplotlib inline"
   ]
  },
  {
   "cell_type": "code",
   "execution_count": null,
   "metadata": {},
   "outputs": [],
   "source": [
    "from importlib import reload\n",
    "from cycler import cycler\n",
    "from scipy.io  import loadmat\n",
    "from sklearn   import mixture\n",
    "from sklearn   import neighbors\n",
    "from V2XMD     import data_evaluation\n",
    "from V2XMD     import data_processing\n",
    "from V2XMD     import data_visualisation\n",
    "from V2XMD     import plausibility_checks\n",
    "import pycm\n",
    "import datetime\n",
    "import matplotlib.pyplot as plt\n",
    "import numpy as np\n",
    "import os\n",
    "import pandas as pd\n",
    "import pandas_profiling as pdp\n",
    "\n",
    "import re\n",
    "import seaborn as sns\n",
    "import sklearn\n",
    "import sklearn.metrics\n",
    "import sys\n",
    "import time"
   ]
  },
  {
   "cell_type": "code",
   "execution_count": null,
   "metadata": {},
   "outputs": [],
   "source": [
    "sns.set_style('dark')"
   ]
  },
  {
   "cell_type": "code",
   "execution_count": null,
   "metadata": {},
   "outputs": [],
   "source": [
    "columns_names=[ \"type\",\n",
    "                \"reception_time\",\n",
    "                \"receiver_id\",\n",
    "                \"receiver_x_position\",\n",
    "                \"receiver_y_position\",\n",
    "                \"receiver_z_position\",\n",
    "                \"transmission_time\" ,\n",
    "                \"transmitter_id\",\n",
    "                \"bsm_id\",\n",
    "                \"transmitter_x_position\",\n",
    "                \"transmitter_y_position\",\n",
    "                \"transmitter_z_position\",\n",
    "                \"transmitter_x_velocity\",\n",
    "                \"transmitter_y_velocity\",\n",
    "                \"transmitter_z_velocity\",\n",
    "                \"rssi\",\n",
    "                \"label\"]\n",
    "dfs=[]"
   ]
  },
  {
   "cell_type": "code",
   "execution_count": null,
   "metadata": {},
   "outputs": [],
   "source": [
    "import V2XMD"
   ]
  },
  {
   "cell_type": "code",
   "execution_count": null,
   "metadata": {},
   "outputs": [],
   "source": [
    "dfs=[]\n",
    "for i in [1,2,4,8,16]:\n",
    "    mat = loadmat('./data/WiSec_DataModifiedVeremi_Dataset-master/attack'+str(i)+'withlabels.mat')['attack'+str(i)+'withlabels']\n",
    "    df  = pd.DataFrame(mat,columns=columns_names)\n",
    "    df  = df.assign(dataset=V2XMD.data_visualisation.attack_types[i])\n",
    "    dfs.append( df)\n",
    "df = pd.concat(dfs)\n",
    "df.reset_index(inplace=True,drop=True)\n",
    "df.dropna(inplace=True)"
   ]
  },
  {
   "cell_type": "code",
   "execution_count": null,
   "metadata": {},
   "outputs": [],
   "source": [
    "df.label=df.label.apply(lambda x: V2XMD.data_visualisation.attack_types[x])"
   ]
  },
  {
   "cell_type": "code",
   "execution_count": null,
   "metadata": {},
   "outputs": [],
   "source": [
    "# for sample test (Whole data takes a lot of time)\n",
    "# df=df.sample(frac=0.01)"
   ]
  },
  {
   "cell_type": "markdown",
   "metadata": {},
   "source": [
    "# Summary statistics"
   ]
  },
  {
   "cell_type": "code",
   "execution_count": null,
   "metadata": {},
   "outputs": [],
   "source": [
    "with pd.option_context('display.float_format', '{:,.2f}'.format):\n",
    "    display( df.describe().T)"
   ]
  },
  {
   "cell_type": "markdown",
   "metadata": {},
   "source": [
    "# histograms"
   ]
  },
  {
   "cell_type": "code",
   "execution_count": null,
   "metadata": {},
   "outputs": [],
   "source": [
    "rdf=df[[\n",
    " \n",
    " 'receiver_x_position',\n",
    " 'transmitter_x_position',\n",
    " 'receiver_y_position',\n",
    " 'transmitter_y_position',\n",
    " 'transmission_time',\n",
    " \"reception_time\",\n",
    " 'transmitter_x_velocity',\n",
    " 'transmitter_y_velocity',\n",
    " 'rssi',\n",
    "]]"
   ]
  },
  {
   "cell_type": "code",
   "execution_count": null,
   "metadata": {},
   "outputs": [],
   "source": [
    "train, test=sklearn.model_selection.train_test_split(df,test_size=0.1)"
   ]
  },
  {
   "cell_type": "code",
   "execution_count": null,
   "metadata": {},
   "outputs": [],
   "source": [
    "bsm_ids=test.bsm_id.value_counts().iloc[:10].index"
   ]
  },
  {
   "cell_type": "code",
   "execution_count": null,
   "metadata": {},
   "outputs": [],
   "source": [
    "bsm_ids_df=df[df.bsm_id.isin(bsm_ids)]"
   ]
  },
  {
   "cell_type": "code",
   "execution_count": null,
   "metadata": {},
   "outputs": [],
   "source": [
    "label_encoder = sklearn.preprocessing.LabelEncoder().fit(bsm_ids_df.bsm_id)"
   ]
  },
  {
   "cell_type": "code",
   "execution_count": null,
   "metadata": {},
   "outputs": [],
   "source": [
    "plt.figure()\n",
    "plt.scatter(label_encoder.transform(bsm_ids_df.bsm_id),bsm_ids_df.receiver_id,c=label_encoder.transform(bsm_ids_df.bsm_id),cmap=plt.cm.tab10,s=150)\n",
    "plt.scatter(label_encoder.transform(train[train.bsm_id.isin(bsm_ids)].bsm_id)-0.05,train[train.bsm_id.isin(bsm_ids)].receiver_id,c='black',s=10,label='Train')\n",
    "plt.scatter(label_encoder.transform(test[test.bsm_id.isin(bsm_ids)].bsm_id)+0.05,test[test.bsm_id.isin(bsm_ids)].receiver_id,c='white',s=10,label='Validtion')\n",
    "plt.xlabel('Message ID')\n",
    "plt.ylabel('Reciever ID')\n",
    "plt.legend(fontsize='x-large',facecolor='#9b0000', framealpha=1,frameon = 1)\n",
    "plt.savefig(\"out/train_split.png\",dpi=300,bbox_inches='tight')"
   ]
  },
  {
   "cell_type": "code",
   "execution_count": null,
   "metadata": {},
   "outputs": [],
   "source": [
    "ax=plt.subplots(3,2,figsize=(8,7.5))\n",
    "caxes=np.concatenate(ax[1]).tolist()\n",
    "for i,cname in enumerate([\n",
    " \n",
    " 'receiver_x_position',\n",
    " 'transmitter_x_position',\n",
    "\n",
    " 'receiver_y_position',\n",
    " 'transmitter_y_position',\n",
    "\n",
    " 'transmitter_x_velocity',\n",
    "\n",
    " 'transmitter_y_velocity',\n",
    "\n",
    "]):    \n",
    "    rdf.hist(bins=100,xrot=45,column=cname,ax=caxes[i])\n",
    "    caxes[i].set_ylabel('N° occurrence')\n",
    "    caxes[i].set_xlabel('feature value')\n",
    "    sns.kdeplot(rdf[cname],color='red',label='kde',ax=caxes[i].twinx())\n",
    "    plt.ylabel('kde value')\n",
    "plt.tight_layout()\n",
    "plt.savefig(\"out/hist_features.png\",dpi=300,bbox_inches='tight')"
   ]
  },
  {
   "cell_type": "markdown",
   "metadata": {},
   "source": [
    "# Box plots"
   ]
  },
  {
   "cell_type": "code",
   "execution_count": null,
   "metadata": {},
   "outputs": [],
   "source": [
    "plt.figure(figsize=(8,6))\n",
    "plt.subplot(141)\n",
    "df[[\n",
    " \n",
    " 'receiver_x_position',\n",
    " 'transmitter_x_position',\n",
    "\n",
    "]].boxplot()\n",
    "plt.ylabel('Value')\n",
    "plt.xticks(rotation=90)\n",
    "\n",
    "plt.tight_layout()\n",
    "plt.subplot(142)\n",
    "df[[\n",
    " \n",
    " 'receiver_y_position',\n",
    " 'transmitter_y_position',\n",
    "]].boxplot()\n",
    "plt.xticks(rotation=90)\n",
    "\n",
    "plt.tight_layout()\n",
    "\n",
    "plt.subplot(143)\n",
    "\n",
    "df[[\n",
    " 'transmission_time',\n",
    " \"reception_time\",\n",
    "]].boxplot()\n",
    "plt.xticks(rotation=90)\n",
    "\n",
    "plt.tight_layout()\n",
    "plt.subplot(144)\n",
    "\n",
    "df[[\n",
    " 'transmitter_x_velocity',\n",
    " 'transmitter_y_velocity',\n",
    "]].boxplot()\n",
    "plt.xticks(rotation=90)\n",
    "plt.tight_layout()\n",
    "\n",
    "\n",
    "plt.xticks(rotation=90)\n",
    "plt.tight_layout()\n",
    "plt.savefig(\"out/boxplots_features.png\",dpi=300,bbox_inches='tight')"
   ]
  },
  {
   "cell_type": "markdown",
   "metadata": {},
   "source": [
    "## Message reduendency"
   ]
  },
  {
   "cell_type": "code",
   "execution_count": null,
   "metadata": {},
   "outputs": [],
   "source": [
    "df.groupby('bsm_id').size().hist(bins=20,figsize=(8,4))\n",
    "plt.ylabel('Number of messages')\n",
    "plt.xlabel(\"Number of broadcasts\")\n",
    "plt.twinx()\n",
    "sns.kdeplot(df.groupby('bsm_id').size(),color='red',label='kde')\n",
    "plt.legend()\n",
    "plt.ylabel('Kde')\n",
    "plt.savefig(\"out/messaging_rates.png\",dpi=600,bbox_inches='tight');"
   ]
  },
  {
   "cell_type": "markdown",
   "metadata": {},
   "source": [
    "# Machine learning application"
   ]
  },
  {
   "cell_type": "code",
   "execution_count": null,
   "metadata": {},
   "outputs": [],
   "source": [
    "from V2XMD.models import TrainModel"
   ]
  },
  {
   "cell_type": "code",
   "execution_count": null,
   "metadata": {},
   "outputs": [],
   "source": [
    "\"\"\"\n",
    "This part of the notebook contains all expiriments. \n",
    "We variate the following parameters in heirarchical setup with this order.\n",
    "    MBD type (Message based and Communication based)\n",
    "    Split type (random and our split)\n",
    "    feature engineering ( use or not of extracted features)\n",
    "    One classe detection (a model for each class VS a model for all classes at the same time)\n",
    "    \n",
    "and the we plot results for train and test perfs\n",
    "\"\"\""
   ]
  },
  {
   "cell_type": "markdown",
   "metadata": {},
   "source": [
    "### Message based detection"
   ]
  },
  {
   "cell_type": "markdown",
   "metadata": {},
   "source": [
    "## Random split"
   ]
  },
  {
   "cell_type": "markdown",
   "metadata": {},
   "source": [
    "#### No feature engineering\n",
    " "
   ]
  },
  {
   "cell_type": "markdown",
   "metadata": {},
   "source": [
    "\n",
    "##### One classe detection at a time"
   ]
  },
  {
   "cell_type": "code",
   "execution_count": null,
   "metadata": {},
   "outputs": [],
   "source": [
    "rnd_nofeature_oneclass_model= TrainModel(df,split='random', multi_class=False,features=False)\n",
    "rnd_nofeature_oneclass_model.train()"
   ]
  },
  {
   "cell_type": "code",
   "execution_count": null,
   "metadata": {
    "scrolled": true
   },
   "outputs": [],
   "source": [
    "rnd_nofeature_oneclass_model.train_results"
   ]
  },
  {
   "cell_type": "markdown",
   "metadata": {},
   "source": [
    "## train results"
   ]
  },
  {
   "cell_type": "code",
   "execution_count": null,
   "metadata": {
    "scrolled": true
   },
   "outputs": [],
   "source": [
    "rnd_nofeature_oneclass_model.results_visualisation('train')"
   ]
  },
  {
   "cell_type": "markdown",
   "metadata": {},
   "source": [
    "### test results"
   ]
  },
  {
   "cell_type": "code",
   "execution_count": null,
   "metadata": {
    "scrolled": true
   },
   "outputs": [],
   "source": [
    "rnd_nofeature_oneclass_model.results_visualisation('test')"
   ]
  },
  {
   "cell_type": "markdown",
   "metadata": {},
   "source": [
    "##### Multi class detection"
   ]
  },
  {
   "cell_type": "code",
   "execution_count": null,
   "metadata": {},
   "outputs": [],
   "source": [
    "rnd_nofeature_multiclass_model= TrainModel(df,split='random', multi_class=True,features=False)\n",
    "rnd_nofeature_multiclass_model.train()"
   ]
  },
  {
   "cell_type": "code",
   "execution_count": null,
   "metadata": {},
   "outputs": [],
   "source": [
    "rnd_nofeature_multiclass_model.train_results"
   ]
  },
  {
   "cell_type": "markdown",
   "metadata": {},
   "source": [
    "## train results"
   ]
  },
  {
   "cell_type": "code",
   "execution_count": null,
   "metadata": {},
   "outputs": [],
   "source": [
    "rnd_nofeature_multiclass_model.results_visualisation('train')"
   ]
  },
  {
   "cell_type": "markdown",
   "metadata": {},
   "source": [
    "### test results"
   ]
  },
  {
   "cell_type": "code",
   "execution_count": null,
   "metadata": {
    "scrolled": true
   },
   "outputs": [],
   "source": [
    "rnd_nofeature_multiclass_model.results_visualisation('test')"
   ]
  },
  {
   "cell_type": "markdown",
   "metadata": {},
   "source": [
    "## Feature engineering"
   ]
  },
  {
   "cell_type": "markdown",
   "metadata": {},
   "source": [
    "\n",
    "##### One classe detection at a time"
   ]
  },
  {
   "cell_type": "code",
   "execution_count": null,
   "metadata": {},
   "outputs": [],
   "source": [
    "rnd_feature_oneclass_model= TrainModel(df,split='random', multi_class=False,features=True)\n",
    "rnd_feature_oneclass_model.train()"
   ]
  },
  {
   "cell_type": "code",
   "execution_count": null,
   "metadata": {
    "scrolled": true
   },
   "outputs": [],
   "source": [
    "rnd_feature_oneclass_model.train_results"
   ]
  },
  {
   "cell_type": "markdown",
   "metadata": {},
   "source": [
    "## train results"
   ]
  },
  {
   "cell_type": "code",
   "execution_count": null,
   "metadata": {},
   "outputs": [],
   "source": [
    "rnd_feature_oneclass_model.results_visualisation('train')"
   ]
  },
  {
   "cell_type": "markdown",
   "metadata": {},
   "source": [
    "### test results"
   ]
  },
  {
   "cell_type": "code",
   "execution_count": null,
   "metadata": {},
   "outputs": [],
   "source": [
    "rnd_feature_oneclass_model.results_visualisation('test')"
   ]
  },
  {
   "cell_type": "markdown",
   "metadata": {},
   "source": [
    "##### Multi class detection"
   ]
  },
  {
   "cell_type": "code",
   "execution_count": null,
   "metadata": {},
   "outputs": [],
   "source": [
    "rnd_feature_multiclass_model= TrainModel(df,split='random', multi_class=True,features=True)\n",
    "rnd_feature_multiclass_model.train()"
   ]
  },
  {
   "cell_type": "code",
   "execution_count": null,
   "metadata": {},
   "outputs": [],
   "source": [
    "rnd_feature_multiclass_model.train_results"
   ]
  },
  {
   "cell_type": "markdown",
   "metadata": {},
   "source": [
    "## train results"
   ]
  },
  {
   "cell_type": "code",
   "execution_count": null,
   "metadata": {},
   "outputs": [],
   "source": [
    "rnd_feature_multiclass_model.results_visualisation('train')"
   ]
  },
  {
   "cell_type": "markdown",
   "metadata": {},
   "source": [
    "### test results"
   ]
  },
  {
   "cell_type": "code",
   "execution_count": null,
   "metadata": {},
   "outputs": [],
   "source": [
    "rnd_feature_multiclass_model.results_visualisation('test')"
   ]
  },
  {
   "cell_type": "markdown",
   "metadata": {},
   "source": [
    "#### No feature engineering\n",
    " "
   ]
  },
  {
   "cell_type": "markdown",
   "metadata": {},
   "source": [
    "\n",
    "##### One classe detection at a time"
   ]
  },
  {
   "cell_type": "code",
   "execution_count": null,
   "metadata": {},
   "outputs": [],
   "source": [
    "tmp_nofeature_oneclass_model= TrainModel(df,split='our', multi_class=False,features=False)\n",
    "tmp_nofeature_oneclass_model.train()"
   ]
  },
  {
   "cell_type": "code",
   "execution_count": null,
   "metadata": {
    "scrolled": true
   },
   "outputs": [],
   "source": [
    "tmp_nofeature_oneclass_model.train_results"
   ]
  },
  {
   "cell_type": "markdown",
   "metadata": {},
   "source": [
    "## train results"
   ]
  },
  {
   "cell_type": "code",
   "execution_count": null,
   "metadata": {},
   "outputs": [],
   "source": [
    "tmp_nofeature_oneclass_model.results_visualisation('train')"
   ]
  },
  {
   "cell_type": "markdown",
   "metadata": {},
   "source": [
    "### test results"
   ]
  },
  {
   "cell_type": "code",
   "execution_count": null,
   "metadata": {},
   "outputs": [],
   "source": [
    "tmp_nofeature_oneclass_model.results_visualisation('test')"
   ]
  },
  {
   "cell_type": "markdown",
   "metadata": {},
   "source": [
    "##### Multi class detection"
   ]
  },
  {
   "cell_type": "code",
   "execution_count": null,
   "metadata": {},
   "outputs": [],
   "source": [
    "tmp_nofeature_multiclass_model= TrainModel(df,split='our', multi_class=True,features=False)\n",
    "tmp_nofeature_multiclass_model.train()"
   ]
  },
  {
   "cell_type": "code",
   "execution_count": null,
   "metadata": {},
   "outputs": [],
   "source": [
    "tmp_nofeature_multiclass_model.train_results"
   ]
  },
  {
   "cell_type": "markdown",
   "metadata": {},
   "source": [
    "## train results"
   ]
  },
  {
   "cell_type": "code",
   "execution_count": null,
   "metadata": {},
   "outputs": [],
   "source": [
    "tmp_nofeature_multiclass_model.results_visualisation('train')"
   ]
  },
  {
   "cell_type": "markdown",
   "metadata": {},
   "source": [
    "### test results"
   ]
  },
  {
   "cell_type": "code",
   "execution_count": null,
   "metadata": {},
   "outputs": [],
   "source": [
    "tmp_nofeature_multiclass_model.results_visualisation('test')"
   ]
  },
  {
   "cell_type": "markdown",
   "metadata": {},
   "source": [
    "## Feature engineering"
   ]
  },
  {
   "cell_type": "markdown",
   "metadata": {},
   "source": [
    "\n",
    "##### One classe detection at a time"
   ]
  },
  {
   "cell_type": "code",
   "execution_count": null,
   "metadata": {},
   "outputs": [],
   "source": [
    "tmp_feature_oneclass_model= TrainModel(df,split='our', multi_class=False,features=True)\n",
    "tmp_feature_oneclass_model.train()"
   ]
  },
  {
   "cell_type": "code",
   "execution_count": null,
   "metadata": {
    "scrolled": true
   },
   "outputs": [],
   "source": [
    "tmp_feature_oneclass_model.train_results"
   ]
  },
  {
   "cell_type": "markdown",
   "metadata": {},
   "source": [
    "## train results"
   ]
  },
  {
   "cell_type": "code",
   "execution_count": null,
   "metadata": {},
   "outputs": [],
   "source": [
    "tmp_feature_oneclass_model.results_visualisation('train')"
   ]
  },
  {
   "cell_type": "markdown",
   "metadata": {},
   "source": [
    "### test results"
   ]
  },
  {
   "cell_type": "code",
   "execution_count": null,
   "metadata": {},
   "outputs": [],
   "source": [
    "tmp_feature_oneclass_model.results_visualisation('test')"
   ]
  },
  {
   "cell_type": "markdown",
   "metadata": {},
   "source": [
    "##### Multi class detection"
   ]
  },
  {
   "cell_type": "code",
   "execution_count": null,
   "metadata": {},
   "outputs": [],
   "source": [
    "tmp_feature_multiclass_model= TrainModel(df,split='our', multi_class=True,features=True)\n",
    "tmp_feature_multiclass_model.train()"
   ]
  },
  {
   "cell_type": "code",
   "execution_count": null,
   "metadata": {},
   "outputs": [],
   "source": [
    "tmp_feature_multiclass_model.train_results"
   ]
  },
  {
   "cell_type": "markdown",
   "metadata": {},
   "source": [
    "## train results"
   ]
  },
  {
   "cell_type": "code",
   "execution_count": null,
   "metadata": {},
   "outputs": [],
   "source": [
    "tmp_feature_multiclass_model.results_visualisation('train')"
   ]
  },
  {
   "cell_type": "markdown",
   "metadata": {},
   "source": [
    "### test results"
   ]
  },
  {
   "cell_type": "code",
   "execution_count": null,
   "metadata": {},
   "outputs": [],
   "source": [
    "tmp_feature_multiclass_model.results_visualisation('test')"
   ]
  },
  {
   "cell_type": "markdown",
   "metadata": {},
   "source": [
    "# Comparison "
   ]
  },
  {
   "cell_type": "code",
   "execution_count": null,
   "metadata": {},
   "outputs": [],
   "source": [
    "all_results=pd.concat([\n",
    "        \n",
    "    rnd_nofeature_oneclass_model.train_results,\n",
    "    rnd_nofeature_oneclass_model.test_results,\n",
    "    rnd_nofeature_multiclass_model.train_results,\n",
    "    rnd_nofeature_multiclass_model.test_results,\n",
    "    rnd_feature_oneclass_model.train_results,\n",
    "    rnd_feature_oneclass_model.test_results,\n",
    "    rnd_feature_multiclass_model.train_results,\n",
    "    rnd_feature_multiclass_model.test_results,\n",
    "    tmp_nofeature_oneclass_model.train_results,\n",
    "    tmp_nofeature_oneclass_model.test_results,\n",
    "    tmp_nofeature_multiclass_model.train_results,\n",
    "    tmp_nofeature_multiclass_model.test_results,\n",
    "    tmp_feature_oneclass_model.train_results,\n",
    "    tmp_feature_oneclass_model.test_results,\n",
    "    tmp_feature_multiclass_model.train_results,\n",
    "    tmp_feature_multiclass_model.test_results,\n",
    "])"
   ]
  },
  {
   "cell_type": "code",
   "execution_count": null,
   "metadata": {},
   "outputs": [],
   "source": [
    "all_results=all_results.sort_index()"
   ]
  },
  {
   "cell_type": "code",
   "execution_count": null,
   "metadata": {},
   "outputs": [],
   "source": [
    "n_rows=2\n",
    "n_cols=2\n",
    "id_sub= iter(np.arange(1,20))\n",
    "plt.subplots(n_rows,n_cols,figsize=(8,8))\n",
    "names_y_label = iter(['with features','without features'])\n",
    "for feature in ['True','False']:\n",
    "    for multiclass in ['False']:\n",
    "        for split  in ['train','test']:\n",
    "            print(split,feature,multiclass)\n",
    "            id_c=next(id_sub)\n",
    "            plt.subplot(n_rows,n_cols,id_c)\n",
    "            matrix=(all_results.loc[(slice(None),'our',split,feature,multiclass),(slice(None),'f1-score')].reset_index(['split',\t'Set'\t,'features',\t'multiclass'],drop=True)\n",
    "                   >all_results.loc[(slice(None),'random',split,feature,multiclass),(slice(None),'f1-score')].reset_index(['split',\t'Set'\t,'features',\t'multiclass'],drop=True))\n",
    "            plt.imshow(matrix,cmap=plt.cm.RdYlGn)\n",
    "            for x in range(5):\n",
    "                plt.axvline(x+0.5,c='grey')\n",
    "                plt.axhline(x+0.5,c='grey')\n",
    "                \n",
    "            if id_c > n_cols*(n_rows-1):\n",
    "                plt.xticks(ticks=range(6),labels=list(matrix.droplevel(1,axis=1).columns),rotation=90)\n",
    "                plt.xlabel('Algorithm')\n",
    "            else : plt.xticks([])\n",
    "            if id_c%2 == 1 : \n",
    "                plt.yticks(ticks=range(6),labels=list(matrix.index),rotation=0)\n",
    "                plt.title('Validation')\n",
    "                plt.ylabel('Attack ('+next(names_y_label)+')' )\n",
    "            else : \n",
    "                plt.yticks(ticks=[])\n",
    "                plt.title('Test')\n",
    "#                 plt.twinx()\n",
    "#                 plt.yticks(ticks=[])\n",
    "\n",
    "#                 plt.ylabel(next(names_y_label))\n",
    "#             plt.colorbar()\n",
    "plt.tight_layout()\n",
    "plt.savefig(\"out/heatmap_results.png\",dpi=600,bbox_inches='tight');"
   ]
  },
  {
   "cell_type": "code",
   "execution_count": null,
   "metadata": {},
   "outputs": [],
   "source": [
    "ax=all_results.loc[(slice(None),'random','test','True','False'),(slice(None),'f1-score')].droplevel(['multiclass','features','Set']).droplevel(1,axis=1).unstack('split').plot(rot=90,marker='*',style='--',cmap= plt.cm.tab10,figsize=(9,6))\n",
    "all_results.loc[(slice(None),'our','test','True','False'),(slice(None),'f1-score')].droplevel(['multiclass','features','Set']).droplevel(1,axis=1).unstack('split').plot(rot=90,marker='>',ax=ax,cmap= plt.cm.tab10)\n",
    "plt.grid()\n",
    "plt.ylabel('F1-Score')\n",
    "plt.title('ml_methods_comparison')\n",
    "\n",
    "plt.savefig(\"out/ml_methods_comparison.png\",dpi=600,bbox_inches='tight');\n"
   ]
  },
  {
   "cell_type": "markdown",
   "metadata": {},
   "source": [
    "### results table"
   ]
  },
  {
   "cell_type": "code",
   "execution_count": null,
   "metadata": {},
   "outputs": [],
   "source": [
    "all_results.loc[(slice(None),'our','train',slice(None),'False'),(slice(None),'f1-score')].reset_index()"
   ]
  },
  {
   "cell_type": "code",
   "execution_count": null,
   "metadata": {},
   "outputs": [],
   "source": [
    "plt.figure(figsize=(5,3.3))\n",
    "all_results.loc[(slice(None),'our','train',slice(None),'False'),(slice(None),'f1-score')].max(axis=1).plot(rot=90,use_index=False,label='Validation')\n",
    "all_results.loc[(slice(None),'our','test',slice(None),'False'),(slice(None),'f1-score')].max(axis=1).plot(rot=90,use_index=False,label='Test')\n",
    "plt.ylim(0.75,1)\n",
    "plt.legend()\n",
    "nms=['* ' if i%2==1 else '' for i in range(12) ]+all_results.loc[(slice(None),'our','train',slice(None),'False'),(slice(None),'f1-score')].reset_index()[['Attack']].Attack.values+[' *' if i%2==1 else '' for i in range(12) ]\n",
    "plt.xticks(range(12),nms)\n",
    "plt.xlabel('Setup')\n",
    "plt.ylabel('f1-score')\n",
    "plt.grid()\n",
    "plt.title('our_split_results')\n",
    "\n",
    "plt.savefig(\"out/our_split_results.png\",dpi=600,bbox_inches='tight');"
   ]
  },
  {
   "cell_type": "code",
   "execution_count": null,
   "metadata": {},
   "outputs": [],
   "source": [
    "plt.figure(figsize=(5,3.3))\n",
    "all_results.loc[(slice(None),'random','train',slice(None),'False'),(slice(None),'f1-score')].max(axis=1).plot(rot=90,use_index=False,label='Validation')\n",
    "all_results.loc[(slice(None),'random','test',slice(None),'False'),(slice(None),'f1-score')].max(axis=1).plot(rot=90,use_index=False,label='Test')\n",
    "plt.ylim(0.75,1)\n",
    "plt.legend()\n",
    "nms=['* ' if i%2==1 else '' for i in range(12) ]+all_results.loc[(slice(None),'random','train',slice(None),'False'),(slice(None),'f1-score')].reset_index()[['Attack']].Attack.values+[' *' if i%2==1 else '' for i in range(12) ]\n",
    "plt.xticks(range(12),nms)\n",
    "plt.xlabel('Setup')\n",
    "plt.grid()\n",
    "plt.ylabel('f1-score')\n",
    "plt.title('Random_split_results')\n",
    "\n",
    "plt.savefig(\"out/Random_split_results.png\",dpi=600,bbox_inches='tight');"
   ]
  },
  {
   "cell_type": "code",
   "execution_count": null,
   "metadata": {},
   "outputs": [],
   "source": [
    "plt.figure(figsize=(5,3.3))\n",
    "all_results.loc[(slice(None),'our','test','False','False'),(slice(None),'f1-score')].max(axis=1).plot(rot=90,use_index=False,label='without features')\n",
    "all_results.loc[(slice(None),'our','test','True','False'),(slice(None),'f1-score')].max(axis=1).plot(rot=90,use_index=False,label='with features')\n",
    "plt.ylim(0.75,1)\n",
    "plt.legend()\n",
    "nms=all_results.loc[(slice(None),'our','test','True','False'),(slice(None),'f1-score')].reset_index()[['Attack']].Attack.values\n",
    "plt.xticks(range(6),nms)\n",
    "plt.xlabel('Attack')\n",
    "plt.ylabel('f1-score')\n",
    "plt.grid()\n",
    "plt.title('our_split_features_results')\n",
    "\n",
    "plt.savefig(\"out/our_split_features_results.png\",dpi=600,bbox_inches='tight');"
   ]
  },
  {
   "cell_type": "code",
   "execution_count": null,
   "metadata": {
    "scrolled": true
   },
   "outputs": [],
   "source": [
    "plt.figure(figsize=(5,3.3))\n",
    "all_results.loc[(slice(None),'random','test','False','False'),(slice(None),'f1-score')].max(axis=1).plot(rot=90,use_index=False,label='without features')\n",
    "all_results.loc[(slice(None),'random','test','True','False'),(slice(None),'f1-score')].max(axis=1).plot(rot=90,use_index=False,label='with features')\n",
    "plt.ylim(0.75,1)\n",
    "nms=all_results.loc[(slice(None),'random','test','True','False'),(slice(None),'f1-score')].reset_index()[['Attack']].Attack.values\n",
    "plt.xticks(range(6),nms)\n",
    "plt.legend()\n",
    "plt.xlabel('Attack')\n",
    "plt.ylabel('f1-score')\n",
    "plt.grid()\n",
    "plt.title('Random_split_features_results')\n",
    "plt.savefig(\"out/Random_split_features_results.png\",dpi=600,bbox_inches='tight');"
   ]
  },
  {
   "cell_type": "code",
   "execution_count": null,
   "metadata": {},
   "outputs": [],
   "source": []
  },
  {
   "cell_type": "code",
   "execution_count": null,
   "metadata": {},
   "outputs": [],
   "source": []
  }
 ],
 "metadata": {
  "celltoolbar": "Format de la Cellule Texte Brut",
  "kernelspec": {
   "display_name": "Python 3",
   "language": "python",
   "name": "python3"
  },
  "language_info": {
   "codemirror_mode": {
    "name": "ipython",
    "version": 3
   },
   "file_extension": ".py",
   "mimetype": "text/x-python",
   "name": "python",
   "nbconvert_exporter": "python",
   "pygments_lexer": "ipython3",
   "version": "3.6.9"
  }
 },
 "nbformat": 4,
 "nbformat_minor": 4
}
